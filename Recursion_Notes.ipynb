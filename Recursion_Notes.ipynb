{
 "cells": [
  {
   "cell_type": "markdown",
   "metadata": {},
   "source": [
    "# Notebook to understand basics of recursion"
   ]
  },
  {
   "cell_type": "markdown",
   "metadata": {},
   "source": [
    "## Factorial Function recursion"
   ]
  },
  {
   "cell_type": "code",
   "execution_count": 186,
   "metadata": {},
   "outputs": [
    {
     "name": "stdout",
     "output_type": "stream",
     "text": [
      "120\n"
     ]
    }
   ],
   "source": [
    "# Time complexity O(n) but space complexity also O(n)\n",
    "def fact(n):\n",
    "    if n <= 0:\n",
    "        return 1\n",
    "    return n * fact(n - 1)\n",
    "\n",
    "# Pros:\n",
    "# - Simple and easy to understand.\n",
    "# - Directly follows the mathematical definition of factorial.\n",
    "# Cons:\n",
    "# - Time Complexity: O(n) - Linear time complexity due to n recursive calls.\n",
    "# - Space Complexity: O(n) - Due to the recursive call stack.\n",
    "\n",
    "# Better space complexity O(1)\n",
    "def Ifact(n):\n",
    "    r = 1\n",
    "    for i in range(1, n + 1):\n",
    "        r = r * i\n",
    "    return r\n",
    "\n",
    "# Pros:\n",
    "# - Time Complexity: O(n) - Linear time complexity due to the loop running n times.\n",
    "# - Space Complexity: O(1) - Constant space complexity as it does not use the call stack.\n",
    "# Cons:\n",
    "# - Slightly more complex than the recursive approach.\n",
    "# - May be less intuitive for those new to programming.\n",
    "\n",
    "# Example usage\n",
    "print(Ifact(5))  # Output: 120\n"
   ]
  },
  {
   "cell_type": "markdown",
   "metadata": {},
   "source": [
    "## Sum of natural number"
   ]
  },
  {
   "cell_type": "code",
   "execution_count": 187,
   "metadata": {},
   "outputs": [],
   "source": [
    "# Best Solution: O(1)\n",
    "def isum1(n):\n",
    "    return n * (n + 1) / 2\n",
    "\n",
    "# Pros:\n",
    "# - Time Complexity: O(1) - Constant time complexity as it calculates the sum using a single arithmetic operation.\n",
    "# - Space Complexity: O(1) - Constant space complexity.\n",
    "# Cons:\n",
    "# - Limited to cases where an arithmetic formula can be applied.\n",
    "\n",
    "# Not Good: O(n)\n",
    "def isum2(n):\n",
    "    s = 0\n",
    "    for i in range(1, n + 1):\n",
    "        s += i\n",
    "    return s\n",
    "\n",
    "# Pros:\n",
    "# - Simple and easy to understand.\n",
    "# - Iterative approach can be more intuitive for some.\n",
    "# Cons:\n",
    "# - Time Complexity: O(n) - Linear time complexity due to the loop running n times.\n",
    "# - Space Complexity: O(1) - Constant space complexity, but not as efficient as the arithmetic formula approach.\n",
    "\n",
    "# Not Good: O(n)\n",
    "def rsum(n):\n",
    "    if n == 0:\n",
    "        return 0\n",
    "    return n + rsum(n - 1)\n",
    "\n",
    "# Pros:\n",
    "# - Follows the mathematical definition of summation.\n",
    "# - Can be useful in educational contexts to demonstrate recursion.\n",
    "# Cons:\n",
    "# - Time Complexity: O(n) - Linear time complexity due to n recursive calls.\n",
    "# - Space Complexity: O(n) - Due to the recursive call stack.\n"
   ]
  },
  {
   "cell_type": "code",
   "execution_count": 188,
   "metadata": {},
   "outputs": [
    {
     "data": {
      "text/plain": [
       "55"
      ]
     },
     "execution_count": 188,
     "metadata": {},
     "output_type": "execute_result"
    }
   ],
   "source": [
    "rsum(10)"
   ]
  },
  {
   "cell_type": "markdown",
   "metadata": {},
   "source": [
    "## Power function recursion"
   ]
  },
  {
   "cell_type": "code",
   "execution_count": 189,
   "metadata": {},
   "outputs": [],
   "source": [
    "# Standard Recursive Solution: O(n)\n",
    "def rpower(m, n):\n",
    "    if n == 0:\n",
    "        return 1\n",
    "    return rpower(m, n - 1) * m\n",
    "\n",
    "# Pros:\n",
    "# - Simple and easy to understand.\n",
    "# - Directly follows the mathematical definition of exponentiation.\n",
    "# Cons:\n",
    "# - Time Complexity: O(n) - Linear time complexity due to n recursive calls.\n",
    "# - Space Complexity: O(n) - Due to the recursive call stack.\n",
    "\n",
    "# Optimized Recursive Solution: O(log n)\n",
    "def rpower_optimised(m, n):\n",
    "    if n == 0:\n",
    "        return 1\n",
    "    if n % 2 == 0:\n",
    "        return rpower_optimised(m * m, n // 2)\n",
    "    if n % 2 == 1:\n",
    "        return m * rpower_optimised(m * m, (n - 1) // 2)\n",
    "\n",
    "# Pros:\n",
    "# - Time Complexity: O(log n) - Significantly faster due to the halving of n in each step.\n",
    "# - Space Complexity: O(log n) - Reduced recursive call stack compared to the standard recursive approach.\n",
    "# Cons:\n",
    "# - Slightly more complex than the standard recursive approach.\n",
    "# - May be less intuitive for beginners.\n",
    "\n",
    "# Standard Iterative Solution: O(n)\n",
    "def Ipower(m, n):\n",
    "    if n == 0:\n",
    "        return 1\n",
    "    r = m\n",
    "    for i in range(0, n - 1):\n",
    "        r = r * m\n",
    "    return r\n",
    "\n",
    "# Pros:\n",
    "# - Space Complexity: O(1) - Constant space complexity as it does not use the call stack.\n",
    "# - Easy to understand and implement.\n",
    "# Cons:\n",
    "# - Time Complexity: O(n) - Linear time complexity due to the loop running n times.\n",
    "# - Less efficient than the optimized recursive solution for large n.\n"
   ]
  },
  {
   "cell_type": "code",
   "execution_count": 190,
   "metadata": {},
   "outputs": [
    {
     "data": {
      "text/plain": [
       "243"
      ]
     },
     "execution_count": 190,
     "metadata": {},
     "output_type": "execute_result"
    }
   ],
   "source": [
    "Ipower(3,5)"
   ]
  },
  {
   "cell_type": "markdown",
   "metadata": {},
   "source": [
    "## Taylor Series Recursion(Using global var) and Iterative(Using Horners rule) "
   ]
  },
  {
   "cell_type": "code",
   "execution_count": 166,
   "metadata": {},
   "outputs": [],
   "source": [
    "p, f = 1, 1\n",
    "\n",
    "# Recursive approach with global variables\n",
    "def er(x, n):\n",
    "    global p, f\n",
    "    r = 0\n",
    "    \n",
    "    if n == 0:\n",
    "        return 1\n",
    "    \n",
    "    r = er(x, n - 1)\n",
    "    p = p * x\n",
    "    f = f * n\n",
    "    return r + p / f\n",
    "\n",
    "# Pros:\n",
    "# - Illustrates the use of recursion to compute series.\n",
    "# - Can be useful in educational contexts to demonstrate recursion and global variables.\n",
    "# Cons:\n",
    "# - Time Complexity: O(n) - Linear time complexity due to n recursive calls.\n",
    "# - Space Complexity: O(n) - Due to the recursive call stack.\n",
    "# - Uses global variables, which can lead to unintended side effects and makes the function less modular.\n",
    "\n",
    "# Iterative approach\n",
    "def ei(x, n):\n",
    "    s = 1\n",
    "    while n > 0:\n",
    "        s = 1 + (x / n) * s\n",
    "        n = n - 1\n",
    "    return s\n",
    "\n",
    "# Pros:\n",
    "# - Time Complexity: O(n) - Linear time complexity due to the loop running n times.\n",
    "# - Space Complexity: O(1) - Constant space complexity as it uses iterative approach without recursion.\n",
    "# - Avoids the use of global variables, making the function more modular and easier to understand.\n",
    "# Cons:\n",
    "# - The iterative approach might be less intuitive for those accustomed to recursive solutions.\n"
   ]
  },
  {
   "cell_type": "code",
   "execution_count": 167,
   "metadata": {},
   "outputs": [
    {
     "name": "stdout",
     "output_type": "stream",
     "text": [
      "7.3890560989306495\n",
      "7.389056098930649\n"
     ]
    }
   ],
   "source": [
    "\n",
    "import math \n",
    "\n",
    "print(pow(math.e,2))\n",
    "\n",
    "print(er(2,40))"
   ]
  },
  {
   "cell_type": "markdown",
   "metadata": {},
   "source": [
    "## Fibonnacci Series"
   ]
  },
  {
   "cell_type": "code",
   "execution_count": 3,
   "metadata": {},
   "outputs": [
    {
     "name": "stdout",
     "output_type": "stream",
     "text": [
      "5\n",
      "5\n",
      "[-1, -1, -1, -1, -1, -1, -1, -1, -1, -1]\n",
      "[-1, -1, -1, -1, -1, -1, -1, -1, -1, -1]\n",
      "[-1, -1, -1, -1, -1, -1, -1, -1, -1, -1]\n",
      "[-1, 1, -1, -1, -1, -1, -1, -1, -1, -1]\n",
      "[-1, 1, -1, -1, -1, -1, -1, -1, -1, -1]\n",
      "[0, 1, 1, 2, -1, -1, -1, -1, -1, -1]\n",
      "5\n"
     ]
    }
   ],
   "source": [
    "# Excessive recursion, repeated calls for same values i.e bad O(2^n)\n",
    "def fib(n):\n",
    "    if n <= 1:\n",
    "        return n\n",
    "    return fib(n - 1) + fib(n - 2)\n",
    "\n",
    "# Pros:\n",
    "# - Simple and easy to understand.\n",
    "# - Directly follows the mathematical definition of the Fibonacci sequence.\n",
    "# Cons:\n",
    "# - Time Complexity: O(2^n) - Exponential time complexity due to repeated calculations.\n",
    "# - Space Complexity: O(n) - Due to the recursive call stack.\n",
    "# - Highly inefficient for large values of n.\n",
    "\n",
    "# Good method O(n)\n",
    "def Ifib(n):\n",
    "    curr = 1\n",
    "    prev = 0\n",
    "    \n",
    "    while n >= 2:\n",
    "        temp = curr + prev\n",
    "        prev = curr\n",
    "        curr = temp\n",
    "        n = n - 1 \n",
    "        \n",
    "    return curr\n",
    "\n",
    "\n",
    "\n",
    "## Using Binets Formula and golden ratio i.e ((1 + root(5))/2\n",
    "\n",
    "def Dfib(n: int) -> int:\n",
    "    sqrt5 = 5 ** 0.5\n",
    "    phi = (1 + sqrt5) / 2\n",
    "    psi = (1 - sqrt5) / 2\n",
    "    fib_n = (phi ** n - psi ** n) / sqrt5\n",
    "    return round(fib_n)\n",
    "\n",
    "\n",
    "# Pros:\n",
    "# - Time Complexity: O(n) - Linear time complexity.\n",
    "# - Space Complexity: O(1) - Constant space complexity as it uses iterative approach.\n",
    "# - Efficient and suitable for large values of n.\n",
    "# Cons:\n",
    "# - Slightly more complex than the recursive approach.\n",
    "# - May be less intuitive for those accustomed to recursive solutions.\n",
    "\n",
    "\n",
    "\n",
    "# Memoization Recursion to avoid excessive calls\n",
    "F = [-1] * 10  # Adjust the size as needed\n",
    "def Mfib(n):\n",
    "    global F\n",
    "    print(F)\n",
    "    \n",
    "    if n <= 1:\n",
    "        F[n] = n\n",
    "        return n \n",
    "    \n",
    "    if F[n - 2] == -1:\n",
    "        F[n - 2] = Mfib(n - 2)\n",
    "    if F[n - 1] == -1:\n",
    "        F[n - 1] = Mfib(n - 1)\n",
    "    return F[n - 2] + F[n - 1]\n",
    "\n",
    "# Pros:\n",
    "# - Time Complexity: O(n) - Linear time complexity due to memoization.\n",
    "# - Space Complexity: O(n) - Due to the array used for memoization and the recursive call stack.\n",
    "# - Avoids repeated calculations, making it efficient.\n",
    "# Cons:\n",
    "# - Uses additional space for memoization.\n",
    "# - More complex implementation compared to the naive recursive approach.\n",
    "\n",
    "# Example usage\n",
    "print(fib(5))      # Output: 5\n",
    "print(Ifib(5))     # Output: 5\n",
    "print(Mfib(5))     # Output: 5\n"
   ]
  },
  {
   "cell_type": "code",
   "execution_count": 193,
   "metadata": {},
   "outputs": [
    {
     "data": {
      "text/plain": [
       "21"
      ]
     },
     "execution_count": 193,
     "metadata": {},
     "output_type": "execute_result"
    }
   ],
   "source": [
    "fib(8)"
   ]
  },
  {
   "cell_type": "code",
   "execution_count": 194,
   "metadata": {},
   "outputs": [
    {
     "data": {
      "text/plain": [
       "21"
      ]
     },
     "execution_count": 194,
     "metadata": {},
     "output_type": "execute_result"
    }
   ],
   "source": [
    "Ifib(8)"
   ]
  },
  {
   "cell_type": "code",
   "execution_count": 195,
   "metadata": {},
   "outputs": [
    {
     "name": "stdout",
     "output_type": "stream",
     "text": [
      "[0, 1, 1, 2, 3, -1, -1, -1, -1, -1]\n"
     ]
    },
    {
     "data": {
      "text/plain": [
       "5"
      ]
     },
     "execution_count": 195,
     "metadata": {},
     "output_type": "execute_result"
    }
   ],
   "source": [
    "Mfib(5)"
   ]
  },
  {
   "cell_type": "code",
   "execution_count": 7,
   "metadata": {},
   "outputs": [
    {
     "data": {
      "text/plain": [
       "21"
      ]
     },
     "execution_count": 7,
     "metadata": {},
     "output_type": "execute_result"
    }
   ],
   "source": [
    "Dfib(8)"
   ]
  },
  {
   "cell_type": "markdown",
   "metadata": {},
   "source": [
    "## nCr Combinations formula recursion"
   ]
  },
  {
   "cell_type": "code",
   "execution_count": 196,
   "metadata": {},
   "outputs": [
    {
     "name": "stdout",
     "output_type": "stream",
     "text": [
      "10.0\n",
      "10\n"
     ]
    }
   ],
   "source": [
    "# Iterative formula using factorials: O(n)\n",
    "from math import factorial\n",
    "\n",
    "def InCr(n, r):\n",
    "    return factorial(n) / (factorial(r) * factorial(n - r))\n",
    "\n",
    "# Pros:\n",
    "# - Time Complexity: O(n) - Calculating factorials involves iterating up to n.\n",
    "# - Easy to understand and implement using the factorial formula.\n",
    "# - Efficient for small to moderately large values of n and r.\n",
    "# Cons:\n",
    "# - Can become inefficient for very large values of n due to factorial computation.\n",
    "# - Prone to integer overflow for very large values of n.\n",
    "\n",
    "# Recursive value using Pascal's Triangle: O(2^n)\n",
    "\"\"\"\n",
    "Pascal's Triangle\n",
    "row is n\n",
    "column is r\n",
    "                     1 \n",
    "                 1      1\n",
    "            1       2       1\n",
    "        1       3       3       1\n",
    "    1       4       6       4       1\n",
    "\n",
    "We can see nCr = (n-1)C(r-1) + (n-1)Cr\n",
    "\"\"\"\n",
    "\n",
    "def RnCr(n, r):\n",
    "    if (r == 0) or (n == r):\n",
    "        return 1\n",
    "    return RnCr(n - 1, r - 1) + RnCr(n - 1, r)\n",
    "\n",
    "# Pros:\n",
    "# - Illustrates the combinatorial identity using Pascal's Triangle.\n",
    "# - Simple and directly follows the mathematical definition of combinations.\n",
    "# Cons:\n",
    "# - Time Complexity: O(2^n) - Exponential time complexity due to repeated calculations.\n",
    "# - Space Complexity: O(n) - Due to the recursive call stack.\n",
    "# - Highly inefficient for large values of n and r.\n",
    "\n",
    "# Example usage\n",
    "print(InCr(5, 2))  # Output: 10.0\n",
    "print(RnCr(5, 2))  # Output: 10\n"
   ]
  },
  {
   "cell_type": "code",
   "execution_count": 197,
   "metadata": {},
   "outputs": [
    {
     "data": {
      "text/plain": [
       "6.0"
      ]
     },
     "execution_count": 197,
     "metadata": {},
     "output_type": "execute_result"
    }
   ],
   "source": [
    "InCr(4,2)"
   ]
  },
  {
   "cell_type": "code",
   "execution_count": 198,
   "metadata": {},
   "outputs": [
    {
     "data": {
      "text/plain": [
       "6"
      ]
     },
     "execution_count": 198,
     "metadata": {},
     "output_type": "execute_result"
    }
   ],
   "source": [
    "RnCr(4,2)"
   ]
  },
  {
   "cell_type": "markdown",
   "metadata": {},
   "source": [
    "## Tower of Hanoi"
   ]
  },
  {
   "cell_type": "code",
   "execution_count": 199,
   "metadata": {},
   "outputs": [
    {
     "name": "stdout",
     "output_type": "stream",
     "text": [
      "O Block case\n",
      "(A, C)\n",
      "O Block case\n",
      "(A, B)\n",
      "O Block case\n",
      "(C, B)\n",
      "O Block case\n",
      "(A, C)\n",
      "O Block case\n",
      "(B, A)\n",
      "O Block case\n",
      "(B, C)\n",
      "O Block case\n",
      "(A, C)\n",
      "O Block case\n"
     ]
    }
   ],
   "source": [
    "def toh(n, A, B, C):\n",
    "    if n == 0:\n",
    "        print('O Block case')\n",
    "        return\n",
    "    \n",
    "    if n > 0:\n",
    "        toh(n - 1, A, C, B)  # Move n-1 disks from A to B using C as auxiliary\n",
    "        print(f'({A}, {C})')  # Move the nth disk from A to C\n",
    "        toh(n - 1, B, A, C)  # Move n-1 disks from B to C using A as auxiliary\n",
    "\n",
    "# Pros:\n",
    "# - Illustrates the recursive solution to the classic Tower of Hanoi problem.\n",
    "# - Directly follows the recursive algorithm, making it easy to understand and implement.\n",
    "# Cons:\n",
    "# - Time Complexity: O(2^n) - Exponential time complexity due to the nature of the problem.\n",
    "# - Space Complexity: O(n) - Due to the recursive call stack.\n",
    "# - Can be inefficient for large values of n.\n",
    "\n",
    "# Example usage\n",
    "toh(3, 'A', 'B', 'C')\n",
    "\n",
    "# Output:\n",
    "# (A, C)\n",
    "# (A, B)\n",
    "# (C, B)\n",
    "# (A, C)\n",
    "# (B, A)\n",
    "# (B, C)\n",
    "# (A, C)\n"
   ]
  },
  {
   "cell_type": "code",
   "execution_count": 200,
   "metadata": {},
   "outputs": [
    {
     "name": "stdout",
     "output_type": "stream",
     "text": [
      "O Block case\n",
      "(1, 3)\n",
      "O Block case\n",
      "(1, 2)\n",
      "O Block case\n",
      "(3, 2)\n",
      "O Block case\n",
      "(1, 3)\n",
      "O Block case\n",
      "(2, 1)\n",
      "O Block case\n",
      "(2, 3)\n",
      "O Block case\n",
      "(1, 3)\n",
      "O Block case\n"
     ]
    }
   ],
   "source": [
    "toh(3,1,2,3)"
   ]
  },
  {
   "cell_type": "markdown",
   "metadata": {},
   "source": [
    "## Tree Traversals Recursion"
   ]
  },
  {
   "cell_type": "code",
   "execution_count": 206,
   "metadata": {},
   "outputs": [
    {
     "name": "stdout",
     "output_type": "stream",
     "text": [
      "Pre-order DFS:\n",
      "3\n",
      "2\n",
      "1\n",
      "1\n",
      "2\n",
      "1\n",
      "1\n",
      "\n",
      "In-order DFS:\n",
      "1\n",
      "2\n",
      "1\n",
      "3\n",
      "1\n",
      "2\n",
      "1\n",
      "\n",
      "Post-order DFS:\n",
      "1\n",
      "1\n",
      "2\n",
      "1\n",
      "1\n",
      "2\n",
      "3\n",
      "\n",
      "BFS:\n",
      "3\n",
      "2\n",
      "2\n",
      "1\n",
      "1\n",
      "1\n",
      "1\n"
     ]
    }
   ],
   "source": [
    "from collections import deque\n",
    "\n",
    "class TreeNode:\n",
    "    def __init__(self, value=0, left=None, right=None):\n",
    "        self.value = value\n",
    "        self.left = left\n",
    "        self.right = right\n",
    "        \n",
    "# Constructing the binary tree\n",
    "root = TreeNode(3)\n",
    "root.left = TreeNode(2)\n",
    "root.right = TreeNode(2)\n",
    "root.left.left = TreeNode(1)\n",
    "root.left.right = TreeNode(1)\n",
    "root.right.left = TreeNode(1)\n",
    "root.right.right = TreeNode(1)\n",
    "\n",
    "# The binary tree structure:\n",
    "#          3\n",
    "#       /    \\\n",
    "#      2      2\n",
    "#     / \\    / \\\n",
    "#    1   1  1   1\n",
    "\n",
    "# Pre-order DFS\n",
    "def pre_order_dfs(root):\n",
    "    if root is None:\n",
    "        return\n",
    "    \n",
    "    print(root.value)  # Visit root\n",
    "    pre_order_dfs(root.left)  # Visit left subtree\n",
    "    pre_order_dfs(root.right)  # Visit right subtree\n",
    "\n",
    "# Pros:\n",
    "# - Simple and easy to understand.\n",
    "# - Useful for creating a copy of the tree.\n",
    "# - Can be used to serialize the tree.\n",
    "# Cons:\n",
    "# - Space complexity can be high due to the call stack (O(h), where h is the height of the tree).\n",
    "# - Inefficient for trees with a large number of nodes.\n",
    "\n",
    "# In-order DFS\n",
    "def in_order_dfs(root):\n",
    "    if root is None:\n",
    "        return\n",
    "    \n",
    "    in_order_dfs(root.left)  # Visit left subtree\n",
    "    print(root.value)  # Visit root\n",
    "    in_order_dfs(root.right)  # Visit right subtree\n",
    "\n",
    "# Pros:\n",
    "# - Yields nodes in non-decreasing order for binary search trees (BSTs).\n",
    "# - Useful for binary search tree validation.\n",
    "# Cons:\n",
    "# - Space complexity can be high due to the call stack (O(h), where h is the height of the tree).\n",
    "# - Inefficient for trees with a large number of nodes.\n",
    "\n",
    "# Post-order DFS\n",
    "def post_order_dfs(root):\n",
    "    if root is None:\n",
    "        return\n",
    "    \n",
    "    post_order_dfs(root.left)  # Visit left subtree\n",
    "    post_order_dfs(root.right)  # Visit right subtree\n",
    "    print(root.value)  # Visit root\n",
    "\n",
    "# Pros:\n",
    "# - Useful for deleting or freeing nodes.\n",
    "# - Used in some algorithm implementations like expression tree evaluation.\n",
    "# Cons:\n",
    "# - Space complexity can be high due to the call stack (O(h), where h is the height of the tree).\n",
    "# - Inefficient for trees with a large number of nodes.\n",
    "\n",
    "# Breadth-First Search (BFS) / Level-order\n",
    "def bfs(root):\n",
    "    if root is None:\n",
    "        return\n",
    "    \n",
    "    queue = deque([root])\n",
    "    while queue:\n",
    "        node = queue.popleft()\n",
    "        print(node.value)\n",
    "        \n",
    "        if node.left:\n",
    "            queue.append(node.left)\n",
    "            \n",
    "        if node.right:\n",
    "            queue.append(node.right)\n",
    "\n",
    "# Pros:\n",
    "# - Visits nodes level by level, which can be useful for certain types of problems.\n",
    "# - Good for finding the shortest path in an unweighted tree.\n",
    "# Cons:\n",
    "# - Can use a lot of memory for wide trees (O(w), where w is the width of the tree).\n",
    "# - May be less intuitive compared to DFS for some applications.\n",
    "\n",
    "# Example usage:\n",
    "print(\"Pre-order DFS:\")\n",
    "pre_order_dfs(root)\n",
    "print(\"\\nIn-order DFS:\")\n",
    "in_order_dfs(root)\n",
    "print(\"\\nPost-order DFS:\")\n",
    "post_order_dfs(root)\n",
    "print(\"\\nBFS:\")\n",
    "bfs(root)\n"
   ]
  },
  {
   "cell_type": "code",
   "execution_count": 207,
   "metadata": {},
   "outputs": [
    {
     "name": "stdout",
     "output_type": "stream",
     "text": [
      "3\n",
      "2\n",
      "1\n",
      "1\n",
      "2\n",
      "1\n",
      "1\n"
     ]
    }
   ],
   "source": [
    "pre_order_dfs(root)"
   ]
  },
  {
   "cell_type": "code",
   "execution_count": 208,
   "metadata": {},
   "outputs": [
    {
     "name": "stdout",
     "output_type": "stream",
     "text": [
      "1\n",
      "1\n",
      "2\n",
      "1\n",
      "1\n",
      "2\n",
      "3\n"
     ]
    }
   ],
   "source": [
    "post_order_dfs(root)"
   ]
  },
  {
   "cell_type": "code",
   "execution_count": 209,
   "metadata": {},
   "outputs": [
    {
     "name": "stdout",
     "output_type": "stream",
     "text": [
      "1\n",
      "2\n",
      "1\n",
      "3\n",
      "1\n",
      "2\n",
      "1\n"
     ]
    }
   ],
   "source": [
    "in_order_dfs(root)"
   ]
  },
  {
   "cell_type": "code",
   "execution_count": 210,
   "metadata": {},
   "outputs": [
    {
     "name": "stdout",
     "output_type": "stream",
     "text": [
      "3\n",
      "2\n",
      "2\n",
      "1\n",
      "1\n",
      "1\n",
      "1\n"
     ]
    }
   ],
   "source": [
    "bfs(root)"
   ]
  },
  {
   "cell_type": "markdown",
   "metadata": {},
   "source": [
    "## Summary of Applications of Different Tree Traversals\n",
    "\n",
    "## 1. Pre-order Traversal (DFS)\n",
    "\n",
    "**Definition**: Visit the root node first, then recursively visit the left subtree, and finally the right subtree.\n",
    "\n",
    "**Applications**:\n",
    "- **Tree Serialization/Deserialization**: Used to serialize a tree structure into a string format, which can later be deserialized to reconstruct the tree.\n",
    "- **Expression Trees**: Generates the prefix notation of the expression (Polish notation).\n",
    "- **Copying Trees**: Makes a deep copy of a tree.\n",
    "\n",
    "## 2. In-order Traversal (DFS)\n",
    "\n",
    "**Definition**: Recursively visit the left subtree first, then visit the root node, and finally the right subtree.\n",
    "\n",
    "**Applications**:\n",
    "- **Binary Search Trees (BSTs)**: Produces a sorted sequence of elements in a BST. Useful in algorithms that rely on sorted data.\n",
    "- **Expression Trees**: Generates the infix notation of the expression.\n",
    "\n",
    "## 3. Post-order Traversal (DFS)\n",
    "\n",
    "**Definition**: Recursively visit the left subtree first, then the right subtree, and finally visit the root node.\n",
    "\n",
    "**Applications**:\n",
    "- **Tree Deletion**: Used when deleting or freeing nodes in a tree, ensuring that child nodes are processed before their parent nodes.\n",
    "- **Expression Trees**: Generates the postfix notation of the expression (Reverse Polish notation).\n",
    "- **Dependency Resolution**: Useful in scenarios like build systems where dependencies need to be resolved before their dependents are processed.\n",
    "\n",
    "## 4. Level-order Traversal (BFS)\n",
    "\n",
    "**Definition**: Visit nodes level by level from left to right.\n",
    "\n",
    "**Applications**:\n",
    "- **Shortest Path in Unweighted Graphs/Trees**: BFS can be used to find the shortest path between two nodes in an unweighted graph or tree.\n",
    "- **Serialization/Deserialization**: Another way to serialize a tree structure into a format (like a list) that can be used to reconstruct the tree.\n",
    "- **Organization Structures**: Useful in representing organizational hierarchies or any hierarchical data where processing level by level is required.\n",
    "- **Finding the Maximum Width of a Tree**: Determines the maximum width of a binary tree (i.e., the maximum number of nodes at any level).\n",
    "\n",
    "## 5. Depth-First Traversal (DFS)\n",
    "\n",
    "**Applications**:\n",
    "- **Topological Sorting**: Used in scenarios like task scheduling, where certain tasks must be completed before others.\n",
    "- **Path Finding**: DFS is used to explore all possible paths from a starting node to an ending node, useful in puzzle-solving and game development.\n",
    "- **Cycle Detection**: In graph theory, DFS can be used to detect cycles in a graph.\n",
    "- **Solving Mazes and Puzzles**: DFS can be used to find a way through a maze or to solve puzzles by exploring all possible paths.\n"
   ]
  },
  {
   "cell_type": "code",
   "execution_count": null,
   "metadata": {},
   "outputs": [],
   "source": []
  }
 ],
 "metadata": {
  "kernelspec": {
   "display_name": "base",
   "language": "python",
   "name": "python3"
  },
  "language_info": {
   "codemirror_mode": {
    "name": "ipython",
    "version": 3
   },
   "file_extension": ".py",
   "mimetype": "text/x-python",
   "name": "python",
   "nbconvert_exporter": "python",
   "pygments_lexer": "ipython3",
   "version": "3.11.5"
  }
 },
 "nbformat": 4,
 "nbformat_minor": 2
}
